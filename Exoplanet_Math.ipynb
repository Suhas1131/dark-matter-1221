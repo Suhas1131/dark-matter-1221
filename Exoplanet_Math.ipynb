{
  "nbformat": 4,
  "nbformat_minor": 0,
  "metadata": {
    "colab": {
      "provenance": [],
      "authorship_tag": "ABX9TyNiixMJ5RPCv7JsMN7UR6UK",
      "include_colab_link": true
    },
    "kernelspec": {
      "name": "python3",
      "display_name": "Python 3"
    },
    "language_info": {
      "name": "python"
    }
  },
  "cells": [
    {
      "cell_type": "markdown",
      "metadata": {
        "id": "view-in-github",
        "colab_type": "text"
      },
      "source": [
        "<a href=\"https://colab.research.google.com/github/Suhas1131/dark-matter-1221/blob/main/Exoplanet_Math.ipynb\" target=\"_parent\"><img src=\"https://colab.research.google.com/assets/colab-badge.svg\" alt=\"Open In Colab\"/></a>"
      ]
    },
    {
      "cell_type": "code",
      "execution_count": 6,
      "metadata": {
        "id": "CHNp_iPOn5lS"
      },
      "outputs": [],
      "source": [
        "#importing required modules\n",
        "import astropy.units as u\n",
        "import numpy as np\n",
        "import astropy.constants as ac"
      ]
    },
    {
      "cell_type": "code",
      "source": [
        "#calculating the diameter of the Sun.\n",
        "d = 2 * u.solRad"
      ],
      "metadata": {
        "id": "otrNWYn6oGrC"
      },
      "execution_count": 7,
      "outputs": []
    },
    {
      "cell_type": "code",
      "source": [
        "#calculating the orbital velocity of the earth\n",
        "a = 1 * u.au\n",
        "v = np.sqrt(ac.G * u.solMass / a)\n",
        "print(v.to(u.m / u.s))"
      ],
      "metadata": {
        "colab": {
          "base_uri": "https://localhost:8080/"
        },
        "id": "MssI_7ZkoJJm",
        "outputId": "0ac2ebeb-86b9-4b08-dcc1-f10eeb11db2a"
      },
      "execution_count": 10,
      "outputs": [
        {
          "output_type": "stream",
          "name": "stdout",
          "text": [
            "29784.691829676933 m / s\n"
          ]
        }
      ]
    },
    {
      "cell_type": "code",
      "source": [
        "#calculating the duration of Earth transiting the Sun\n",
        "t = d / v\n",
        "print(t.to(u.hour))"
      ],
      "metadata": {
        "colab": {
          "base_uri": "https://localhost:8080/"
        },
        "id": "w3uEs3w-oU2P",
        "outputId": "8a2e89bb-9b88-4e13-e20e-26b07cf1fce1"
      },
      "execution_count": 11,
      "outputs": [
        {
          "output_type": "stream",
          "name": "stdout",
          "text": [
            "12.976464628547822 h\n"
          ]
        }
      ]
    },
    {
      "cell_type": "code",
      "source": [
        "#calculating the flux dip for Jupiter transitting a Sun-like star\n",
        "delta = (u.jupiterRad / u.solRad)**2\n",
        "print(\"The trasnit depth =\", delta.decompose())"
      ],
      "metadata": {
        "colab": {
          "base_uri": "https://localhost:8080/"
        },
        "id": "gHfsZ4d7pFhF",
        "outputId": "cc8f00ce-2362-4694-fcb7-740f682b4814"
      },
      "execution_count": 12,
      "outputs": [
        {
          "output_type": "stream",
          "name": "stdout",
          "text": [
            "The trasnit depth = 0.0105602\n"
          ]
        }
      ]
    },
    {
      "cell_type": "code",
      "source": [
        "#calculating the orbital velocity of Jupiter\n",
        "a = 5 * u.au\n",
        "v_Jupiter = np.sqrt(ac.G * u.solMass / a)\n",
        "print(v_Jupiter.to(u.m / u.s))"
      ],
      "metadata": {
        "colab": {
          "base_uri": "https://localhost:8080/"
        },
        "id": "ifdo5LN6puGq",
        "outputId": "78a0ab9b-956c-4f1b-cab0-53e7f771684e"
      },
      "execution_count": 14,
      "outputs": [
        {
          "output_type": "stream",
          "name": "stdout",
          "text": [
            "13320.119124008042 m / s\n"
          ]
        }
      ]
    },
    {
      "cell_type": "code",
      "source": [
        "#calculating the duration of Jupiter transitting a Sun - like star\n",
        "t_Jupiter = d / v_Jupiter\n",
        "print(t_Jupiter.to(u.hour))"
      ],
      "metadata": {
        "colab": {
          "base_uri": "https://localhost:8080/"
        },
        "id": "2xOtv_JmsSwI",
        "outputId": "6baae96c-1700-460c-9a48-834506b10161"
      },
      "execution_count": 17,
      "outputs": [
        {
          "output_type": "stream",
          "name": "stdout",
          "text": [
            "29.01625701705449 h\n"
          ]
        }
      ]
    },
    {
      "cell_type": "code",
      "source": [
        "#calculating the velocity of the Sun because of Earth\n",
        "v_earth = 30 * u.km / u.s\n",
        "v_sun = (u.earthMass / u.solMass) * v_earth\n",
        "print (v_sun.to(u.m/u.s))"
      ],
      "metadata": {
        "colab": {
          "base_uri": "https://localhost:8080/"
        },
        "id": "a1-R3_MUsfDo",
        "outputId": "4f6cf1a3-491e-40bb-ccf9-2d8e701334ba"
      },
      "execution_count": 21,
      "outputs": [
        {
          "output_type": "stream",
          "name": "stdout",
          "text": [
            "0.09010468046552379 m / s\n"
          ]
        }
      ]
    },
    {
      "cell_type": "code",
      "source": [
        "#calculating the velocity of the Sun because of Jupiter\n",
        "v_sun_Jupiter = (u.jupiterMass / u.solMass) * v_Jupiter\n",
        "print(v_sun_Jupiter.to(u.m/u.s))"
      ],
      "metadata": {
        "colab": {
          "base_uri": "https://localhost:8080/"
        },
        "id": "E1sd3sy-trxS",
        "outputId": "9c778e12-5216-4cb6-8490-cfb0f11f41d9"
      },
      "execution_count": 22,
      "outputs": [
        {
          "output_type": "stream",
          "name": "stdout",
          "text": [
            "12.715308911562614 m / s\n"
          ]
        }
      ]
    },
    {
      "cell_type": "code",
      "source": [],
      "metadata": {
        "id": "GiJqtUBAup5M"
      },
      "execution_count": null,
      "outputs": []
    }
  ]
}