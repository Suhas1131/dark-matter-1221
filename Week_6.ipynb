{
  "nbformat": 4,
  "nbformat_minor": 0,
  "metadata": {
    "colab": {
      "provenance": [],
      "authorship_tag": "ABX9TyOn7SIqBe3260YV1TpMQvPl",
      "include_colab_link": true
    },
    "kernelspec": {
      "name": "python3",
      "display_name": "Python 3"
    },
    "language_info": {
      "name": "python"
    }
  },
  "cells": [
    {
      "cell_type": "markdown",
      "metadata": {
        "id": "view-in-github",
        "colab_type": "text"
      },
      "source": [
        "<a href=\"https://colab.research.google.com/github/Suhas1131/dark-matter-1221/blob/main/Week_6.ipynb\" target=\"_parent\"><img src=\"https://colab.research.google.com/assets/colab-badge.svg\" alt=\"Open In Colab\"/></a>"
      ]
    },
    {
      "cell_type": "code",
      "execution_count": null,
      "metadata": {
        "id": "OaSG-H81jK0L"
      },
      "outputs": [],
      "source": [
        "#importing packages\n",
        "import numpy as np\n",
        "import astropy.units as u\n",
        "import astropy.constants as ac"
      ]
    },
    {
      "cell_type": "code",
      "source": [
        "#calculating the radius of a solar mass blackhole\n",
        "M_bh = 1 * u.solMass\n",
        "R_bh = 2 * ac.G * M_bh / ac.c ** 2\n",
        "print(\"The radius of a solar-mass blackhole is\", R_bh.to(u.km))"
      ],
      "metadata": {
        "colab": {
          "base_uri": "https://localhost:8080/"
        },
        "id": "JKax-cb7j025",
        "outputId": "a87d62e3-56c0-4832-c2ed-fdbd9e8acf7a"
      },
      "execution_count": null,
      "outputs": [
        {
          "output_type": "stream",
          "name": "stdout",
          "text": [
            "The radius of a solar-mass blackhole is 2.95325007610025 km\n"
          ]
        }
      ]
    },
    {
      "cell_type": "code",
      "source": [
        "#calculating the mass of\n",
        "delta_t = 0.01 * u.second\n",
        "M = delta_t * ac.c ** 3 / (16 * np.pi * ac.G)\n",
        "print (M.to(u.solMass))"
      ],
      "metadata": {
        "colab": {
          "base_uri": "https://localhost:8080/"
        },
        "id": "Aw21Kgw-kOCJ",
        "outputId": "69ba35c6-d2d5-47e8-d6e4-42b7ba01b155"
      },
      "execution_count": null,
      "outputs": [
        {
          "output_type": "stream",
          "name": "stdout",
          "text": [
            "40.390629275268466 solMass\n"
          ]
        }
      ]
    },
    {
      "cell_type": "code",
      "source": [
        "#calculating the deformation of Earth due to a gravity wave\n",
        "h = 1e-21\n",
        "delta_Earth = 1 * u.earthRad * h\n",
        "print(\"Deformation of Earth is\", delta_Earth.to(u.m))\n"
      ],
      "metadata": {
        "colab": {
          "base_uri": "https://localhost:8080/"
        },
        "id": "On8zx0QLmRzW",
        "outputId": "eb5245b9-c502-466c-f800-0052ee2e3334"
      },
      "execution_count": null,
      "outputs": [
        {
          "output_type": "stream",
          "name": "stdout",
          "text": [
            "Desormation of Earth is 6.378099999999999e-15 m\n"
          ]
        }
      ]
    },
    {
      "cell_type": "code",
      "source": [
        "R_bh = 2 * ac.G * 30 * u.solMass / (ac.c**2)\n",
        "D = R_bh / h\n",
        "print(\"Distance of the black hole merger is\", D.to(1e6 * u.parsec))"
      ],
      "metadata": {
        "colab": {
          "base_uri": "https://localhost:8080/"
        },
        "id": "XGBhlsB-oTKE",
        "outputId": "cc886a68-7ee6-4975-abfe-b45ffa5a163a"
      },
      "execution_count": null,
      "outputs": [
        {
          "output_type": "stream",
          "name": "stdout",
          "text": [
            "Distance of the black hole merger is 2871.249504952705 1e+06 pc\n"
          ]
        }
      ]
    },
    {
      "cell_type": "code",
      "source": [],
      "metadata": {
        "id": "yEtkofUypypL"
      },
      "execution_count": null,
      "outputs": []
    }
  ]
}