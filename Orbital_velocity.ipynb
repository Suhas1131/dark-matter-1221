{
  "nbformat": 4,
  "nbformat_minor": 0,
  "metadata": {
    "colab": {
      "provenance": [],
      "authorship_tag": "ABX9TyMcbCvmgCfybuddOLDR7IqL",
      "include_colab_link": true
    },
    "kernelspec": {
      "name": "python3",
      "display_name": "Python 3"
    },
    "language_info": {
      "name": "python"
    }
  },
  "cells": [
    {
      "cell_type": "markdown",
      "metadata": {
        "id": "view-in-github",
        "colab_type": "text"
      },
      "source": [
        "<a href=\"https://colab.research.google.com/github/Suhas1131/dark-matter-1221/blob/main/Orbital_velocity.ipynb\" target=\"_parent\"><img src=\"https://colab.research.google.com/assets/colab-badge.svg\" alt=\"Open In Colab\"/></a>"
      ]
    },
    {
      "cell_type": "code",
      "execution_count": 1,
      "metadata": {
        "id": "_M00u3mDyfuZ"
      },
      "outputs": [],
      "source": [
        "#importing libraries\n",
        "import numpy as np\n",
        "import astropy.units as u\n",
        "import astropy.constants as ac\n",
        "import matplotlib.pyplot as plt"
      ]
    },
    {
      "cell_type": "code",
      "source": [
        "#creating a funtction to find the orbital velociity\n",
        "def calculate_orbital_velocity(mass, radius):\n",
        "  return(np.sqrt(ac.G * mass / radius))"
      ],
      "metadata": {
        "id": "ldd0bemvypJ7"
      },
      "execution_count": 2,
      "outputs": []
    },
    {
      "cell_type": "code",
      "source": [
        "#calculating the orbital velocity of the Earth around the Sun\n",
        "mass = 1 * u.solMass\n",
        "radius = 1 * u.au\n",
        "orb_vel_earth = calculate_orbital_velocity(mass, radius)\n",
        "print (orb_vel_earth.to(u.km / u.s))"
      ],
      "metadata": {
        "colab": {
          "base_uri": "https://localhost:8080/"
        },
        "id": "jiY0MSW0y0Or",
        "outputId": "a7c77abf-d07d-4d02-835d-32fcdf0b172b"
      },
      "execution_count": 7,
      "outputs": [
        {
          "output_type": "stream",
          "name": "stdout",
          "text": [
            "29.784691829676934 km / s\n"
          ]
        }
      ]
    },
    {
      "cell_type": "code",
      "source": [
        "#calculating the orbital velocity of a satelite around the Earth\n",
        "mass = 1 * u.earthMass\n",
        "radius = 1 * u.earthRad\n",
        "orb_vel_earth = calculate_orbital_velocity(mass, radius)\n",
        "print (orb_vel_earth.to(u.km / u.s))"
      ],
      "metadata": {
        "colab": {
          "base_uri": "https://localhost:8080/"
        },
        "id": "br8V4OZzzbMU",
        "outputId": "50bb1f45-b7d1-487f-a0f8-8154a5bbbc15"
      },
      "execution_count": 8,
      "outputs": [
        {
          "output_type": "stream",
          "name": "stdout",
          "text": [
            "7.905388234385281 km / s\n"
          ]
        }
      ]
    },
    {
      "cell_type": "code",
      "source": [
        "#Creating a function to find the Schwarzschild radius\n",
        "#r = 2 GM/ c^2\n",
        "def schwarzchild_radius(mass):\n",
        "  return((2 * ac.G * mass) / np.square(ac.c))"
      ],
      "metadata": {
        "id": "GA2qab6nzcuW"
      },
      "execution_count": 17,
      "outputs": []
    },
    {
      "cell_type": "code",
      "source": [
        "#Calculating the schwarlchild radius of a Solar-mass blackhole\n",
        "mass = 1 * u.solMass\n",
        "radius = schwarzchild_radius(mass)\n",
        "print(radius.to(u.m, u.kg))\n",
        "\n"
      ],
      "metadata": {
        "colab": {
          "base_uri": "https://localhost:8080/"
        },
        "id": "LtyOtjIn2L3l",
        "outputId": "e6ae4a90-480e-4df1-9d7c-9f3f7dc76577"
      },
      "execution_count": 23,
      "outputs": [
        {
          "output_type": "stream",
          "name": "stdout",
          "text": [
            "2953.2500761002498 m\n"
          ]
        }
      ]
    },
    {
      "cell_type": "code",
      "source": [],
      "metadata": {
        "id": "yDIL3HD52fO2"
      },
      "execution_count": null,
      "outputs": []
    }
  ]
}